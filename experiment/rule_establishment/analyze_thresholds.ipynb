{
 "cells": [
  {
   "cell_type": "code",
   "execution_count": null,
   "id": "64d44f98",
   "metadata": {
    "vscode": {
     "languageId": "plaintext"
    }
   },
   "outputs": [],
   "source": [
    "import pandas as pd\n",
    "import matplotlib.pyplot as plt\n",
    "import seaborn as sns\n",
    "from pathlib import Path\n",
    "\n",
    "# 시각화 스타일 설정\n",
    "sns.set_theme(style=\"whitegrid\", context=\"talk\")\n",
    "print(\"라이브러리 임포트 완료.\")"
   ]
  },
  {
   "cell_type": "code",
   "execution_count": null,
   "id": "097f88fa",
   "metadata": {
    "vscode": {
     "languageId": "plaintext"
    }
   },
   "outputs": [],
   "source": [
    "# 파일 경로 설정\n",
    "file_path = Path(\"./validation_results.csv\")\n",
    "\n",
    "# 데이터 로드\n",
    "try:\n",
    "    df = pd.read_csv(file_path)\n",
    "    print(\"데이터 로드 성공!\")\n",
    "    print(f\"총 {len(df)}개의 데이터 포인트가 있습니다.\")\n",
    "except FileNotFoundError:\n",
    "    print(f\"오류: '{file_path}' 파일을 찾을 수 없습니다. 1_collect_validation_data.py를 먼저 실행하세요.\")\n",
    "\n",
    "# 데이터 타입 변환 및 기본적인 정보 확인\n",
    "df['max_score'] = pd.to_numeric(df['max_score'], errors='coerce')\n",
    "df['score_gap'] = pd.to_numeric(df['score_gap'], errors='coerce')\n",
    "df['confidence_score'] = pd.to_numeric(df['confidence_score'], errors='coerce')\n",
    "\n",
    "# 성공/실패를 시각화를 위해 1/0으로 변환\n",
    "df['outcome_numeric'] = df['final_outcome'].apply(lambda x: 1 if x == 'success' else 0)\n",
    "\n",
    "print(\"\\n데이터 미리보기:\")\n",
    "df.head()"
   ]
  },
  {
   "cell_type": "code",
   "execution_count": null,
   "id": "a872e616",
   "metadata": {
    "vscode": {
     "languageId": "plaintext"
    }
   },
   "outputs": [],
   "source": [
    "# max_score와 score_gap에 따른 성공/실패 분포 시각화\n",
    "plt.figure(figsize=(12, 8))\n",
    "\n",
    "sns.scatterplot(\n",
    "    data=df,\n",
    "    x='max_score',\n",
    "    y='score_gap',\n",
    "    hue='final_outcome', # 성공/실패에 따라 색상 구분\n",
    "    palette={'success': 'blue', 'failure': 'red'},\n",
    "    alpha=0.7,\n",
    "    s=100 # 점 크기\n",
    ")\n",
    "\n",
    "plt.title('메타인지 신호와 실제 성공/실패 분포', fontsize=20, pad=20)\n",
    "plt.xlabel('최고 점수 (Max Score)', fontsize=15)\n",
    "plt.ylabel('점수 격차 (Score Gap)', fontsize=15)\n",
    "plt.legend(title='최종 결과', title_fontsize='13', fontsize='12')\n",
    "plt.grid(True)\n",
    "plt.show()"
   ]
  },
  {
   "cell_type": "code",
   "execution_count": null,
   "id": "c3e79225",
   "metadata": {
    "vscode": {
     "languageId": "plaintext"
    }
   },
   "outputs": [],
   "source": [
    "# 규칙 후보 정의\n",
    "path_a_rule = (df['max_score'] >= 8) & (df['score_gap'] >= 3)\n",
    "path_c_rule = (df['max_score'] <= 4)\n",
    "\n",
    "# 각 규칙에 해당하는 데이터 분리\n",
    "df_path_a = df[path_a_rule]\n",
    "df_path_c = df[path_c_rule]\n",
    "df_path_b = df[~path_a_rule & ~path_c_rule] # A도 C도 아닌 나머지\n",
    "\n",
    "# 각 경로의 통계 계산\n",
    "path_stats = {\n",
    "    'A (확신 실행)': {\n",
    "        'Count': len(df_path_a),\n",
    "        'Success Rate (%)': df_path_a['outcome_numeric'].mean() * 100 if len(df_path_a) > 0 else 0\n",
    "    },\n",
    "    'B (주의 실행)': {\n",
    "        'Count': len(df_path_b),\n",
    "        'Success Rate (%)': df_path_b['outcome_numeric'].mean() * 100 if len(df_path_b) > 0 else 0\n",
    "    },\n",
    "    'C (메타인지 합성)': {\n",
    "        'Count': len(df_path_c),\n",
    "        'Success Rate (%)': df_path_c['outcome_numeric'].mean() * 100 if len(df_path_c) > 0 else 0\n",
    "    }\n",
    "}\n",
    "\n",
    "stats_df = pd.DataFrame(path_stats).T\n",
    "print(\"정의된 규칙에 따른 각 경로의 통계:\")\n",
    "stats_df"
   ]
  }
 ],
 "metadata": {
  "language_info": {
   "name": "python"
  }
 },
 "nbformat": 4,
 "nbformat_minor": 5
}
